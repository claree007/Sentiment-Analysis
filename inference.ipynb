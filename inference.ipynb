{
 "cells": [
  {
   "cell_type": "markdown",
   "metadata": {},
   "source": [
    "# Sentiment Analysis\n",
    "\n",
    "Type a review in the text box and click on `predict sentiment` to get the sentiment. This model has been trained on a small dataset, so expect the results to be incorrect sometimes :D The `score` ranges from 0 to 5\n",
    "\n",
    "Loading the app may take some time as the model needs to be downloaded."
   ]
  },
  {
   "cell_type": "code",
   "execution_count": 2,
   "metadata": {},
   "outputs": [],
   "source": [
    "import re\n",
    "import nltk\n",
    "import pickle\n",
    "import numpy as np\n",
    "import tensorflow as tf\n",
    "_ = nltk.download('punkt', quiet=True)"
   ]
  },
  {
   "cell_type": "code",
   "execution_count": 4,
   "metadata": {},
   "outputs": [],
   "source": [
    "# helper utilities\n",
    "replacements = \"\"\"aren't    are not\n",
    "can't   cannot\n",
    "couldn't    could not\n",
    "didn't  did not\n",
    "doesn't does not\n",
    "don't   do not\n",
    "hadn't  had not\n",
    "hasn't  has not\n",
    "haven't have not\n",
    "he'd    he would\n",
    "he'll   he will\n",
    "he's    he is\n",
    "i'd i would\n",
    "i'll    i will\n",
    "i'm i am\n",
    "i've    i have\n",
    "isn't   is not\n",
    "it's    it is, it has\n",
    "let's   let us\n",
    "mustn't must not\n",
    "shan't  shall not\n",
    "she'd   she would\n",
    "she'll  she will\n",
    "she's   she is\n",
    "shouldn't   should not\n",
    "that's  that is\n",
    "there's there is\n",
    "they'd  they would\n",
    "they'll they will\n",
    "they're they are\n",
    "they've they have\n",
    "we'd    we would\n",
    "we're   we are\n",
    "we've   we have\n",
    "weren't were not\n",
    "what'll what will\n",
    "what're what are\n",
    "what's  what is\n",
    "what've what have\n",
    "where's where is\n",
    "who'd   who would\n",
    "who'll  who will\n",
    "who're  who are\n",
    "who's   who is\n",
    "who've  who have\n",
    "won't   will not\n",
    "wouldn't    would not\n",
    "you'd   you would\n",
    "you'll  you will\n",
    "you're  you are\n",
    "you've  you have\"\"\"\n",
    "\n",
    "# expand words with apostrophe\n",
    "splitted = []\n",
    "for r in replacements.split('\\n'):\n",
    "    splitted.append(re.split(r'\\s', r, maxsplit=1))\n",
    "\n",
    "# load stopwords\n",
    "# stopwords = []\n",
    "# with open('stopwords.txt', 'r') as f:\n",
    "#     stopwords = f.read().lower().split('\\n')\n",
    "\n",
    "def expand_sent(sent):\n",
    "    for split in splitted:\n",
    "        sent = re.sub(split[0], split[1], sent)\n",
    "    return sent\n",
    "\n",
    "def remove_stopwords(tokens):\n",
    "    new_tokens = []\n",
    "    for word in tokens:\n",
    "        if word not in stopwords:\n",
    "            new_tokens.append(word)\n",
    "    return new_tokens\n",
    "\n",
    "def clean_text(sent):\n",
    "    sent = expand_sent(sent.lower())\n",
    "    # removes 's eg: Amy's will become Amy\n",
    "    sent = re.sub(r\"'s\", \"\", sent)\n",
    "    # removes words joined together by hyphen\n",
    "    sent = re.sub(r'(.*?)-(.*?)', r'\\1 \\2', sent)\n",
    "    # removes puntuations, extra characters and html tages and text inside parentheses\n",
    "    sent = re.sub(r'[\\'\"!@:.,?#*\\n()]|(<.*?>)', \" \", sent)\n",
    "    # replaces 2 consecutive numbers with NUM token\n",
    "#     sent = re.sub(r'\\d+', \" NUM \", sent)\n",
    "    # removes more than 2 consecutive same characters with just 2\n",
    "    sent = re.sub(r'(.)\\1+', r'\\1\\1', sent)\n",
    "    # removes 2 or more spaces\n",
    "    sent = re.sub(r' +', \" \", sent)\n",
    "    return sent.strip()\n",
    "\n",
    "# define the pipeline\n",
    "def predict_sentiment(text):\n",
    "    text = nltk.word_tokenize(clean_text(text))\n",
    "    X = np.zeros([1, max_len], dtype=np.int32)\n",
    "    for i, word in enumerate(text):\n",
    "        X[0, i] = word2idx.get(word, 0)\n",
    "    y_pred = model.predict(X)\n",
    "    return y_pred"
   ]
  },
  {
   "cell_type": "code",
   "execution_count": 6,
   "metadata": {},
   "outputs": [],
   "source": [
    "# load metadata\n",
    "metadata = pickle.load(open(\"metadata.pickle\", 'rb'))\n",
    "\n",
    "vocab = metadata[\"vocab\"]\n",
    "word2idx = metadata[\"word2idx\"]\n",
    "pad_id = metadata[\"pad_id\"]\n",
    "unk_id = metadata[\"unk_id\"]\n",
    "max_len = metadata[\"max_len\"]\n",
    "vocab_size = len(vocab)"
   ]
  },
  {
   "cell_type": "code",
   "execution_count": 8,
   "metadata": {},
   "outputs": [],
   "source": [
    "# load the model\n",
    "model = tf.keras.models.load_model('model.h5')"
   ]
  },
  {
   "cell_type": "code",
   "execution_count": 14,
   "metadata": {},
   "outputs": [
    {
     "data": {
      "application/vnd.jupyter.widget-view+json": {
       "model_id": "18c43ba5a594442799ba331b55583b87",
       "version_major": 2,
       "version_minor": 0
      },
      "text/plain": [
       "Output()"
      ]
     },
     "metadata": {},
     "output_type": "display_data"
    }
   ],
   "source": [
    "output_pl = widgets.Output()\n",
    "output_pl.clear_output()\n",
    "output_pl"
   ]
  },
  {
   "cell_type": "code",
   "execution_count": 17,
   "metadata": {},
   "outputs": [],
   "source": [
    "text_box = widgets.Text(value='', placeholder='Awesome movie!', description='Review:', disabled=False)\n",
    "btn = widgets.Button(description='Predict sentiment')\n",
    "\n",
    "def show_sentiment(change):\n",
    "    score = predict_sentiment(text_box.value)[0][0]\n",
    "    label_pred = widgets.Label()\n",
    "    if score < 2:\n",
    "        pred = 'Negative'\n",
    "    elif score < 3:\n",
    "        pred = 'Neutral'\n",
    "    else:\n",
    "        pred = 'Positive'\n",
    "    with output_pl:\n",
    "        display(text_box.value)\n",
    "        label_pred.value = \"Prediction: {}\\nSentiment score: {}\".format(pred, score)\n",
    "        display(label_pred)\n",
    "    text_box.value = ''\n",
    "        \n",
    "btn.on_click(show_sentiment)"
   ]
  },
  {
   "cell_type": "code",
   "execution_count": 18,
   "metadata": {},
   "outputs": [
    {
     "data": {
      "application/vnd.jupyter.widget-view+json": {
       "model_id": "8c7a6409daf146aebee8fe1f73189eb1",
       "version_major": 2,
       "version_minor": 0
      },
      "text/plain": [
       "HBox(children=(Text(value='', description='Review:', placeholder='Awesome movie!'), Button(description='Predic…"
      ]
     },
     "metadata": {},
     "output_type": "display_data"
    }
   ],
   "source": [
    "widgets.HBox([text_box, btn])"
   ]
  }
 ],
 "metadata": {
  "kernelspec": {
   "display_name": "Python 3",
   "language": "python",
   "name": "python3"
  },
  "language_info": {
   "codemirror_mode": {
    "name": "ipython",
    "version": 3
   },
   "file_extension": ".py",
   "mimetype": "text/x-python",
   "name": "python",
   "nbconvert_exporter": "python",
   "pygments_lexer": "ipython3",
   "version": "3.6.9"
  }
 },
 "nbformat": 4,
 "nbformat_minor": 4
}
